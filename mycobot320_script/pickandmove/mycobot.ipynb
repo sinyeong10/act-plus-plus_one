{
 "cells": [
  {
   "cell_type": "code",
   "execution_count": 123,
   "metadata": {},
   "outputs": [
    {
     "ename": "",
     "evalue": "",
     "output_type": "error",
     "traceback": [
      "\u001b[1;31mRunning cells with 'conda-3.9 (Python 3.9.13)' requires the ipykernel package.\n",
      "\u001b[1;31mRun the following command to install 'ipykernel' into the Python environment. \n",
      "\u001b[1;31mCommand: '\"c:/Users/cbrnt/OneDrive/바탕 화면/kairos/conda-3.9/Scripts/python.exe\" -m pip install ipykernel -U --force-reinstall'"
     ]
    }
   ],
   "source": [
    "te"
   ]
  },
  {
   "cell_type": "code",
   "execution_count": 134,
   "metadata": {},
   "outputs": [],
   "source": [
    "#벌리고 초기 이동\n",
    "mc.init_eletric_gripper()\n",
    "mc.set_eletric_gripper(0)\n",
    "mc.set_gripper_value(100, 20, 1)\n",
    "time.sleep(1)\n",
    "mc.send_angles([0.0, 0.0, 0.0, 0.0, 0.0, 0.0], 20)\n",
    "time.sleep(5)\n"
   ]
  },
  {
   "cell_type": "code",
   "execution_count": 135,
   "metadata": {},
   "outputs": [],
   "source": [
    "#피킹 위치로 이동 후 집기\n",
    "for count in range(1):\n",
    "    mc.send_angles([(-5.27), 74.79, 1.84, 4.48, (-88.33), (-4.83)], 20)\n",
    "    time.sleep(5)\n",
    "    mc.set_eletric_gripper(1)\n",
    "    mc.set_gripper_value(35, 20, 1)\n",
    "    time.sleep(2)"
   ]
  },
  {
   "cell_type": "code",
   "execution_count": 136,
   "metadata": {},
   "outputs": [],
   "source": [
    "#초기 위치로 이동\n",
    "mc.send_angles([(-4.65), 56.6, 16.17, -7.47, (-91.4), (-3.95)], 20)\n",
    "time.sleep(5)"
   ]
  },
  {
   "cell_type": "code",
   "execution_count": 137,
   "metadata": {},
   "outputs": [],
   "source": [
    "#놓는 위치로 이동\n",
    "mc.send_angles([16.43, 58.55, 12.21, (-1.58), (-82.61), (-67.41)], 20)\n",
    "time.sleep(5)"
   ]
  },
  {
   "cell_type": "code",
   "execution_count": 138,
   "metadata": {},
   "outputs": [],
   "source": [
    "#물체 놓기\n",
    "mc.set_eletric_gripper(0)\n",
    "mc.set_gripper_value(100, 20, 1)\n",
    "time.sleep(2)"
   ]
  },
  {
   "cell_type": "code",
   "execution_count": 151,
   "metadata": {},
   "outputs": [],
   "source": [
    "#초기 위치로\n",
    "mc.send_angles([0.0, 0.0, 0.0, 0.0, 0.0, 0.0], 20)\n",
    "time.sleep(5)"
   ]
  },
  {
   "cell_type": "code",
   "execution_count": 149,
   "metadata": {},
   "outputs": [],
   "source": [
    "import cv2\n",
    "import numpy as np\n",
    "cap = cv2.VideoCapture(1)\n",
    "\n"
   ]
  },
  {
   "cell_type": "code",
   "execution_count": 150,
   "metadata": {},
   "outputs": [],
   "source": [
    "while True:\n",
    "    _, frame=cap.read()\n",
    "    cv2.imshow(\"Video\", frame)\n",
    "    HSV_frame = cv2.cvtColor(frame,cv2.COLOR_BGR2HSV)\n",
    "    lower_red = np.array([0, 100, 100])\n",
    "    upper_red = np.array([40, 255, 255])\n",
    "    red_mask = cv2.inRange(HSV_frame, lower_red, upper_red)\n",
    "    red_objects = cv2.bitwise_and(frame, frame, mask=red_mask)\n",
    "    # cv2.imshow('Red Objects Tracking', red_objects)\n",
    "    # cv2.imshow('mask', red_mask)\n",
    "    # cv2.imshow(\"Video\", frame)\n",
    "    # cv2.imshow(\"HSV\", HSV_frame)\n",
    "\n",
    "\n",
    "\n",
    "    hsv = [lower_red, upper_red]\n",
    "\n",
    "    # lower/upper 임계값을 이용하여 마스크 생성\n",
    "    mask = cv2.inRange(HSV_frame, lower_red, upper_red)\n",
    "\n",
    "    # 노이즈 제거를 위한 모폴로지 연산 적용\n",
    "    kernel = np.ones((5, 5), np.uint8)\n",
    "    mask = cv2.morphologyEx(mask, cv2.MORPH_CLOSE, kernel)\n",
    "    mask = cv2.morphologyEx(mask, cv2.MORPH_OPEN, kernel)\n",
    "    \n",
    "    \n",
    "\n",
    " # 윤곽선 검출\n",
    "    contours, _ = cv2.findContours(mask, cv2.RETR_EXTERNAL, cv2.CHAIN_APPROX_SIMPLE)\n",
    "\n",
    "    if contours:\n",
    "        max_contour = max(contours, key=cv2.contourArea)\n",
    "        if cv2.contourArea(max_contour) > 1000:\n",
    "            cv2.drawContours(frame, [max_contour], -1, (0, 0, 255), 2)\n",
    "\t\t    # 윤곽선의 무게 중심 계산\n",
    "            M = cv2.moments(max_contour)\n",
    "            if M[\"m00\"] != 0:\n",
    "                cx = int(M[\"m10\"] / M[\"m00\"])\n",
    "                cy = int(M[\"m01\"] / M[\"m00\"])\n",
    "\n",
    "                # 추적된 위치에 원 그리기\n",
    "                cv2.circle(frame, (cx, cy), 20, (0, 255, 0), -1)\n",
    "        \n",
    "\n",
    "    # 원본 이미지에 마스크 적용\n",
    "    result = cv2.bitwise_and(frame, frame, mask=mask)\n",
    "\n",
    "    # 결과 표시\n",
    "    cv2.imshow('Original Image', frame)\n",
    "    cv2.imshow('Color Detector', result)\n",
    "\n",
    "    key=cv2.waitKey(10)\n",
    "    if key==ord('q'):\n",
    "        break\n",
    "cap.release()\n",
    "cv2.destroyAllWindows()"
   ]
  },
  {
   "cell_type": "code",
   "execution_count": 153,
   "metadata": {},
   "outputs": [
    {
     "data": {
      "text/plain": [
       "[-3.6, -153.2, 523.8, -89.99, 0.26, 179.91]"
      ]
     },
     "execution_count": 153,
     "metadata": {},
     "output_type": "execute_result"
    }
   ],
   "source": [
    "mc.get_coords()"
   ]
  },
  {
   "cell_type": "code",
   "execution_count": 174,
   "metadata": {},
   "outputs": [
    {
     "data": {
      "text/plain": [
       "[0.0, 0.08, 0.08, 0.35, 0.08, -0.08]"
      ]
     },
     "execution_count": 174,
     "metadata": {},
     "output_type": "execute_result"
    }
   ],
   "source": [
    "mc.get_angles()"
   ]
  },
  {
   "cell_type": "code",
   "execution_count": 175,
   "metadata": {},
   "outputs": [],
   "source": [
    "a = mc.get_angles()\n",
    "for idx in range(len(a)):\n",
    "    a[idx] *= -1"
   ]
  },
  {
   "cell_type": "code",
   "execution_count": 176,
   "metadata": {},
   "outputs": [],
   "source": [
    "#초기 위치로\n",
    "mc.send_angles(a, 20)#[0.0, 0.0, 0.0, 0.0, 0.0, 0.0], 20)\n",
    "time.sleep(3)"
   ]
  },
  {
   "cell_type": "code",
   "execution_count": 26,
   "metadata": {},
   "outputs": [
    {
     "data": {
      "text/plain": [
       "[-38.3, -144.4, 523.1, -90.65, 0.96, 149.93]"
      ]
     },
     "execution_count": 26,
     "metadata": {},
     "output_type": "execute_result"
    }
   ],
   "source": [
    "mc.get_coords()"
   ]
  },
  {
   "cell_type": "code",
   "execution_count": 77,
   "metadata": {},
   "outputs": [],
   "source": [
    "# mc.send_coords([0,0,0,0,0,0],20,0)\n",
    "mc.send_angles([(-7.55), 88.68, (-10.28), 5.88, (-82.17), (-7.55)], 10)\n",
    "time.sleep(5)"
   ]
  },
  {
   "cell_type": "code",
   "execution_count": 31,
   "metadata": {},
   "outputs": [
    {
     "data": {
      "text/plain": [
       "[-361.4, -52.1, 137.3, -175.24, 7.17, 90.64]"
      ]
     },
     "execution_count": 31,
     "metadata": {},
     "output_type": "execute_result"
    }
   ],
   "source": [
    "mc.get_coords()"
   ]
  },
  {
   "cell_type": "code",
   "execution_count": 33,
   "metadata": {},
   "outputs": [],
   "source": [
    "# [-361.4, -52.1, 137.3, -175.24, 7.17, 90.64]\n",
    "mc.send_coords([-361.4, -52.1, 137.3, -175.24, 7.17, 90.64],20,0)"
   ]
  },
  {
   "cell_type": "code",
   "execution_count": 47,
   "metadata": {},
   "outputs": [],
   "source": [
    "mc.send_angles([(-5.27), 74.79, 1.84, 4.48, (-88.33), (-4.83)], 20)\n",
    "time.sleep(5)"
   ]
  },
  {
   "cell_type": "code",
   "execution_count": 152,
   "metadata": {},
   "outputs": [],
   "source": [
    "# mc.release_all_servos()"
   ]
  }
 ],
 "metadata": {
  "kernelspec": {
   "display_name": "Python 3",
   "language": "python",
   "name": "python3"
  },
  "language_info": {
   "codemirror_mode": {
    "name": "ipython",
    "version": 3
   },
   "file_extension": ".py",
   "mimetype": "text/x-python",
   "name": "python",
   "nbconvert_exporter": "python",
   "pygments_lexer": "ipython3",
   "version": "3.9.13"
  }
 },
 "nbformat": 4,
 "nbformat_minor": 2
}
